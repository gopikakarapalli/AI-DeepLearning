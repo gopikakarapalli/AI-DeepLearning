{
 "cells": [
  {
   "cell_type": "markdown",
   "metadata": {},
   "source": [
    "# DL_BASICS"
   ]
  },
  {
   "cell_type": "code",
   "execution_count": 1,
   "metadata": {},
   "outputs": [
    {
     "name": "stderr",
     "output_type": "stream",
     "text": [
      "Using TensorFlow backend.\n"
     ]
    },
    {
     "name": "stdout",
     "output_type": "stream",
     "text": [
      "60000 train samples\n",
      "10000 test samples\n"
     ]
    }
   ],
   "source": [
    "import numpy as np\n",
    "from keras.datasets import mnist\n",
    "from keras.models import Sequential\n",
    "from keras.layers.core import Dense, Dropout, Activation\n",
    "from keras.optimizers import RMSprop, Adam, SGD\n",
    "from keras.utils import np_utils\n",
    "import matplotlib.pyplot as plt\n",
    "import tensorflow as tf\n",
    "\n",
    "np.random.seed(1671) \n",
    "\n",
    "NB_EPOCH = 30\n",
    "BATCH_SIZE = 128\n",
    "VERBOSE = 1\n",
    "NB_CLASSES = 10 \n",
    "\n",
    "OPTIMIZER = Adam() \n",
    "N_HIDDEN = 128\n",
    "VALIDATION_SPLIT=0.1\n",
    "\n",
    "DROPOUT = 0.2\n",
    "\n",
    "(X_train, y_train), (X_test, y_test) = mnist.load_data()\n",
    "\n",
    "RESHAPED = 784\n",
    "\n",
    "X_train = X_train.reshape(60000, RESHAPED)\n",
    "X_test = X_test.reshape(10000, RESHAPED)\n",
    "X_train = X_train.astype('float32')\n",
    "X_test = X_test.astype('float32')\n",
    "\n",
    "X_train /= 255\n",
    "X_test /= 255\n",
    "\n",
    "print(X_train.shape[0], 'train samples')\n",
    "print(X_test.shape[0], 'test samples')\n",
    "\n",
    "Y_train = np_utils.to_categorical(y_train, NB_CLASSES)\n",
    "Y_test = np_utils.to_categorical(y_test, NB_CLASSES)\n"
   ]
  },
  {
   "cell_type": "code",
   "execution_count": 2,
   "metadata": {},
   "outputs": [
    {
     "name": "stdout",
     "output_type": "stream",
     "text": [
      "Train on 54000 samples, validate on 6000 samples\n",
      "Epoch 1/30\n",
      "54000/54000 [==============================] - 2s 35us/step - loss: 0.4275 - acc: 0.8721 - val_loss: 0.1344 - val_acc: 0.9635\n",
      "Epoch 2/30\n",
      "54000/54000 [==============================] - 1s 23us/step - loss: 0.1820 - acc: 0.9452 - val_loss: 0.0982 - val_acc: 0.9708\n",
      "Epoch 3/30\n",
      "54000/54000 [==============================] - 1s 23us/step - loss: 0.1377 - acc: 0.9582 - val_loss: 0.0801 - val_acc: 0.9765\n",
      "Epoch 4/30\n",
      "54000/54000 [==============================] - 1s 23us/step - loss: 0.1128 - acc: 0.9647 - val_loss: 0.0767 - val_acc: 0.9780\n",
      "Epoch 5/30\n",
      "54000/54000 [==============================] - 1s 23us/step - loss: 0.0974 - acc: 0.9696 - val_loss: 0.0704 - val_acc: 0.9790\n",
      "Epoch 6/30\n",
      "54000/54000 [==============================] - 1s 22us/step - loss: 0.0865 - acc: 0.9726 - val_loss: 0.0736 - val_acc: 0.9777\n",
      "Epoch 7/30\n",
      "54000/54000 [==============================] - 1s 23us/step - loss: 0.0774 - acc: 0.9757 - val_loss: 0.0682 - val_acc: 0.9812\n",
      "Epoch 8/30\n",
      "54000/54000 [==============================] - 1s 23us/step - loss: 0.0693 - acc: 0.9781 - val_loss: 0.0659 - val_acc: 0.9810\n",
      "Epoch 9/30\n",
      "54000/54000 [==============================] - 1s 23us/step - loss: 0.0641 - acc: 0.9791 - val_loss: 0.0622 - val_acc: 0.9823\n",
      "Epoch 10/30\n",
      "54000/54000 [==============================] - 1s 23us/step - loss: 0.0586 - acc: 0.9808 - val_loss: 0.0661 - val_acc: 0.9805\n",
      "Epoch 11/30\n",
      "54000/54000 [==============================] - 1s 23us/step - loss: 0.0536 - acc: 0.9823 - val_loss: 0.0625 - val_acc: 0.9832\n",
      "Epoch 12/30\n",
      "54000/54000 [==============================] - 1s 23us/step - loss: 0.0508 - acc: 0.9838 - val_loss: 0.0629 - val_acc: 0.9817\n",
      "Epoch 13/30\n",
      "54000/54000 [==============================] - 1s 23us/step - loss: 0.0469 - acc: 0.9843 - val_loss: 0.0665 - val_acc: 0.9803\n",
      "Epoch 14/30\n",
      "54000/54000 [==============================] - 1s 23us/step - loss: 0.0468 - acc: 0.9849 - val_loss: 0.0659 - val_acc: 0.9812\n",
      "Epoch 15/30\n",
      "54000/54000 [==============================] - 1s 23us/step - loss: 0.0423 - acc: 0.9866 - val_loss: 0.0683 - val_acc: 0.9810\n",
      "Epoch 16/30\n",
      "54000/54000 [==============================] - 1s 23us/step - loss: 0.0410 - acc: 0.9866 - val_loss: 0.0648 - val_acc: 0.9823\n",
      "Epoch 17/30\n",
      "54000/54000 [==============================] - 1s 23us/step - loss: 0.0390 - acc: 0.9870 - val_loss: 0.0644 - val_acc: 0.9825\n",
      "Epoch 18/30\n",
      "54000/54000 [==============================] - 1s 22us/step - loss: 0.0374 - acc: 0.9870 - val_loss: 0.0679 - val_acc: 0.9818\n",
      "Epoch 19/30\n",
      "54000/54000 [==============================] - 1s 23us/step - loss: 0.0361 - acc: 0.9871 - val_loss: 0.0599 - val_acc: 0.9825\n",
      "Epoch 20/30\n",
      "54000/54000 [==============================] - 1s 23us/step - loss: 0.0329 - acc: 0.9889 - val_loss: 0.0662 - val_acc: 0.9818\n",
      "Epoch 21/30\n",
      "54000/54000 [==============================] - 1s 23us/step - loss: 0.0323 - acc: 0.9891 - val_loss: 0.0621 - val_acc: 0.9823\n",
      "Epoch 22/30\n",
      "54000/54000 [==============================] - 1s 23us/step - loss: 0.0322 - acc: 0.9891 - val_loss: 0.0736 - val_acc: 0.9813\n",
      "Epoch 23/30\n",
      "54000/54000 [==============================] - 1s 23us/step - loss: 0.0337 - acc: 0.9890 - val_loss: 0.0645 - val_acc: 0.9825\n",
      "Epoch 24/30\n",
      "54000/54000 [==============================] - 1s 22us/step - loss: 0.0297 - acc: 0.9899 - val_loss: 0.0706 - val_acc: 0.9823\n",
      "Epoch 25/30\n",
      "54000/54000 [==============================] - 1s 23us/step - loss: 0.0285 - acc: 0.9902 - val_loss: 0.0693 - val_acc: 0.9828\n",
      "Epoch 26/30\n",
      "54000/54000 [==============================] - 1s 23us/step - loss: 0.0276 - acc: 0.9910 - val_loss: 0.0691 - val_acc: 0.9820\n",
      "Epoch 27/30\n",
      "54000/54000 [==============================] - 1s 23us/step - loss: 0.0269 - acc: 0.9910 - val_loss: 0.0659 - val_acc: 0.9823\n",
      "Epoch 28/30\n",
      "54000/54000 [==============================] - 1s 23us/step - loss: 0.0282 - acc: 0.9904 - val_loss: 0.0683 - val_acc: 0.9818\n",
      "Epoch 29/30\n",
      "54000/54000 [==============================] - 1s 23us/step - loss: 0.0273 - acc: 0.9910 - val_loss: 0.0655 - val_acc: 0.9835\n",
      "Epoch 30/30\n",
      "54000/54000 [==============================] - 1s 22us/step - loss: 0.0260 - acc: 0.9912 - val_loss: 0.0674 - val_acc: 0.9822\n",
      "_________________________________________________________________\n",
      "Layer (type)                 Output Shape              Param #   \n",
      "=================================================================\n",
      "dense_1 (Dense)              (None, 128)               100480    \n",
      "_________________________________________________________________\n",
      "activation_1 (Activation)    (None, 128)               0         \n",
      "_________________________________________________________________\n",
      "dropout_1 (Dropout)          (None, 128)               0         \n",
      "_________________________________________________________________\n",
      "dense_2 (Dense)              (None, 128)               16512     \n",
      "_________________________________________________________________\n",
      "activation_2 (Activation)    (None, 128)               0         \n",
      "_________________________________________________________________\n",
      "dropout_2 (Dropout)          (None, 128)               0         \n",
      "_________________________________________________________________\n",
      "dense_3 (Dense)              (None, 10)                1290      \n",
      "_________________________________________________________________\n",
      "activation_3 (Activation)    (None, 10)                0         \n",
      "=================================================================\n",
      "Total params: 118,282\n",
      "Trainable params: 118,282\n",
      "Non-trainable params: 0\n",
      "_________________________________________________________________\n",
      "10000/10000 [==============================] - 0s 19us/step\n",
      "Test score: 0.08155195617023532\n",
      "Test accuracy: 0.9799\n"
     ]
    },
    {
     "data": {
      "image/png": "[encoded data removed]",
      "text/plain": [
       "<Figure size 432x288 with 1 Axes>"
      ]
     },
     "metadata": {
      "needs_background": "light"
     },
     "output_type": "display_data"
    }
   ],
   "source": [
    "model = Sequential()\n",
    "model.add(Dense(N_HIDDEN, input_shape=(RESHAPED,)))\n",
    "model.add(Activation('relu'))\n",
    "model.add(Dropout(DROPOUT))\n",
    "model.add(Dense(N_HIDDEN))\n",
    "model.add(Activation('relu'))\n",
    "model.add(Dropout(DROPOUT))\n",
    "model.add(Dense(NB_CLASSES))\n",
    "model.add(Activation('softmax'))\n",
    "\n",
    "model.compile(loss='categorical_crossentropy', optimizer=OPTIMIZER, metrics=['accuracy'])\n",
    "history=model.fit(X_train, Y_train, batch_size=BATCH_SIZE, epochs=NB_EPOCH,verbose=VERBOSE, validation_split=VALIDATION_SPLIT)\n",
    "model.summary()\n",
    "score = model.evaluate(X_test, Y_test, verbose=VERBOSE)\n",
    "print(\"Test score:\", score[0])\n",
    "print('Test accuracy:', score[1])\n",
    "\n",
    "\n",
    "plt.plot(history.history['acc'])\n",
    "plt.plot(history.history['val_acc'])\n",
    "plt.title('model accuracy')\n",
    "plt.ylabel('accuracy')\n",
    "plt.xlabel('epoch')\n",
    "plt.legend(['train', 'test'], loc='upper left')\n",
    "plt.show()"
   ]
  },
  {
   "cell_type": "code",
   "execution_count": null,
   "metadata": {},
   "outputs": [],
   "source": [
    "plt.plot(history.history['loss'])\n",
    "plt.plot(history.history['val_loss'])\n",
    "plt.title('model loss')\n",
    "plt.ylabel('loss')\n",
    "plt.xlabel('epoch')\n",
    "plt.legend(['train', 'test'], loc='upper left')\n",
    "plt.show()"
   ]
  }
 ],
 "metadata": {
  "kernelspec": {
   "display_name": "Python 3",
   "language": "python",
   "name": "python3"
  },
  "language_info": {
   "codemirror_mode": {
    "name": "ipython",
    "version": 3
   },
   "file_extension": ".py",
   "mimetype": "text/x-python",
   "name": "python",
   "nbconvert_exporter": "python",
   "pygments_lexer": "ipython3",
   "version": "3.7.1rc1"
  }
 },
 "nbformat": 4,
 "nbformat_minor": 2
}
